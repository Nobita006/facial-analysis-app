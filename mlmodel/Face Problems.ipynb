{
 "cells": [
  {
   "cell_type": "code",
   "execution_count": null,
   "id": "98c04179",
   "metadata": {},
   "outputs": [],
   "source": [
    "import fastbook\n",
    "fastbook.setup_book()"
   ]
  },
  {
   "cell_type": "code",
   "execution_count": null,
   "id": "5f530230",
   "metadata": {},
   "outputs": [],
   "source": [
    "#hide\n",
    "from fastbook import *\n",
    "from fastai.vision.widgets import *"
   ]
  },
  {
   "cell_type": "code",
   "execution_count": null,
   "id": "ee42b12f",
   "metadata": {},
   "outputs": [],
   "source": [
    "search_images_ddg"
   ]
  },
  {
   "cell_type": "code",
   "execution_count": null,
   "id": "8f9fa99b",
   "metadata": {},
   "outputs": [],
   "source": [
    "face_problem_types = ['DARK CIRCLES ON FACE','DARK SPOTS ON FACE','EYE BAGS','DRY SKIN','OILY SKIN','FACE REDNESS',\n",
    "          'DULL SKIN','ROUGH TEXTURE ON FACE','LARGE PORES ON FACE','UNDER-EYE WRINKLES','HORMONAL ACNE',\n",
    "          'BLACKHEADS','SEBACEOUS FILAMENTS','FOREHEAD WRINKLES','RAZOR BUMPS']\n",
    "path = Path('Skin_Problems')"
   ]
  },
  {
   "cell_type": "code",
   "execution_count": null,
   "id": "7a1d139b",
   "metadata": {},
   "outputs": [],
   "source": [
    "if not path.exists():\n",
    "    path.mkdir()\n",
    "    for face_problem_type in face_problem_types:\n",
    "        dest = (path/face_problem_type)\n",
    "        dest.mkdir(exist_ok=True)\n",
    "        results = search_images_ddg(face_problem_type,max_images=500)\n",
    "        download_images(dest, urls=results)"
   ]
  },
  {
   "cell_type": "code",
   "execution_count": null,
   "id": "75289607",
   "metadata": {},
   "outputs": [],
   "source": [
    "fns = get_image_files(path)\n",
    "fns"
   ]
  },
  {
   "cell_type": "code",
   "execution_count": null,
   "id": "1984f3aa",
   "metadata": {},
   "outputs": [],
   "source": [
    "failed = verify_images(fns)\n",
    "failed"
   ]
  },
  {
   "cell_type": "code",
   "execution_count": null,
   "id": "3eebe87f",
   "metadata": {},
   "outputs": [],
   "source": [
    "failed.map(Path.unlink);"
   ]
  },
  {
   "cell_type": "code",
   "execution_count": null,
   "id": "474300f4",
   "metadata": {},
   "outputs": [],
   "source": [
    "face_problems = DataBlock(\n",
    "    blocks=(ImageBlock, CategoryBlock), \n",
    "    get_items=get_image_files, \n",
    "    splitter=RandomSplitter(valid_pct=0.1, seed=42),\n",
    "    get_y=parent_label,\n",
    "    item_tfms=Resize(128))"
   ]
  },
  {
   "cell_type": "code",
   "execution_count": null,
   "id": "af433248",
   "metadata": {},
   "outputs": [],
   "source": [
    "dls = face_problems.dataloaders(path)"
   ]
  },
  {
   "cell_type": "code",
   "execution_count": null,
   "id": "4d846780",
   "metadata": {},
   "outputs": [],
   "source": [
    "face_problems = face_problems.new(item_tfms=Resize(128), batch_tfms=aug_transforms(mult=2))\n",
    "dls = face_problems.dataloaders(path)\n",
    "dls.train.show_batch(max_n=8, nrows=2, unique=True)"
   ]
  },
  {
   "cell_type": "code",
   "execution_count": null,
   "id": "5f555b4c",
   "metadata": {},
   "outputs": [],
   "source": [
    "face_problems = face_problems.new(\n",
    "    item_tfms=RandomResizedCrop(224, min_scale=0.5),\n",
    "    batch_tfms=aug_transforms(),\n",
    ")\n",
    "dls = face_problems.dataloaders(path,bs=16)"
   ]
  },
  {
   "cell_type": "code",
   "execution_count": null,
   "id": "75215a20",
   "metadata": {},
   "outputs": [],
   "source": [
    "learn = cnn_learner(dls, resnet50, metrics=error_rate)\n",
    "learn.fine_tune(5)"
   ]
  },
  {
   "cell_type": "code",
   "execution_count": null,
   "id": "58330612",
   "metadata": {},
   "outputs": [],
   "source": [
    "interp = ClassificationInterpretation.from_learner(learn)\n",
    "interp.plot_confusion_matrix()"
   ]
  },
  {
   "cell_type": "code",
   "execution_count": null,
   "id": "5f51be72",
   "metadata": {},
   "outputs": [],
   "source": [
    "interp.plot_top_losses(1, nrows=1)"
   ]
  },
  {
   "cell_type": "code",
   "execution_count": null,
   "id": "6f1302a3",
   "metadata": {},
   "outputs": [],
   "source": [
    "learn.export()"
   ]
  },
  {
   "cell_type": "code",
   "execution_count": null,
   "id": "646a334e",
   "metadata": {},
   "outputs": [],
   "source": [
    "path = Path()\n",
    "path.ls(file_exts='.pkl')"
   ]
  },
  {
   "cell_type": "code",
   "execution_count": null,
   "id": "ef3ed028",
   "metadata": {},
   "outputs": [],
   "source": [
    "learn_inf = load_learner(path/'export.pkl')"
   ]
  },
  {
   "cell_type": "code",
   "execution_count": null,
   "id": "2c6c6b4a",
   "metadata": {},
   "outputs": [],
   "source": [
    "learn_inf.predict('harmonal_acne.jpg')"
   ]
  },
  {
   "cell_type": "code",
   "execution_count": null,
   "id": "9e2c6721",
   "metadata": {},
   "outputs": [],
   "source": [
    "learn_inf.dls.vocab"
   ]
  },
  {
   "cell_type": "code",
   "execution_count": null,
   "id": "64c44e2c",
   "metadata": {},
   "outputs": [],
   "source": [
    "btn_upload = widgets.FileUpload()\n",
    "btn_upload"
   ]
  },
  {
   "cell_type": "code",
   "execution_count": null,
   "id": "6eff14c1",
   "metadata": {},
   "outputs": [],
   "source": [
    "#hide\n",
    "# For the book, we can't actually click an upload button, so we fake it\n",
    "btn_upload = SimpleNamespace(data = ['harmonal_acne.jpg'])"
   ]
  },
  {
   "cell_type": "code",
   "execution_count": null,
   "id": "3de9d842",
   "metadata": {},
   "outputs": [],
   "source": [
    "img = PILImage.create(btn_upload.data[-1])"
   ]
  },
  {
   "cell_type": "code",
   "execution_count": null,
   "id": "ea9a4594",
   "metadata": {},
   "outputs": [],
   "source": [
    "out_pl = widgets.Output()\n",
    "out_pl.clear_output()\n",
    "with out_pl: display(img.to_thumb(128,128))\n",
    "out_pl"
   ]
  },
  {
   "cell_type": "code",
   "execution_count": null,
   "id": "351cdaf2",
   "metadata": {},
   "outputs": [],
   "source": [
    "pred,pred_idx,probs = learn_inf.predict(img)"
   ]
  },
  {
   "cell_type": "code",
   "execution_count": null,
   "id": "5cc27aa9",
   "metadata": {},
   "outputs": [],
   "source": [
    "lbl_pred = widgets.Label()\n",
    "lbl_pred.value = f'Prediction: {pred}; Probability: {probs[pred_idx]:.04f}'\n",
    "lbl_pred"
   ]
  },
  {
   "cell_type": "code",
   "execution_count": null,
   "id": "736bcd67",
   "metadata": {},
   "outputs": [],
   "source": [
    "btn_run = widgets.Button(description='Classify')\n",
    "btn_run"
   ]
  },
  {
   "cell_type": "code",
   "execution_count": null,
   "id": "97352078",
   "metadata": {},
   "outputs": [],
   "source": [
    "def on_click_classify(change):\n",
    "    img = PILImage.create(btn_upload.data[-1])\n",
    "    out_pl.clear_output()\n",
    "    with out_pl: display(img.to_thumb(128,128))\n",
    "    pred,pred_idx,probs = learn_inf.predict(img)\n",
    "    lbl_pred.value = f'Prediction: {pred}; Probability: {probs[pred_idx]:.04f}'\n",
    "\n",
    "btn_run.on_click(on_click_classify)"
   ]
  },
  {
   "cell_type": "code",
   "execution_count": null,
   "id": "2a2c1994",
   "metadata": {},
   "outputs": [],
   "source": [
    "#hide\n",
    "#Putting back btn_upload to a widget for next cell\n",
    "btn_upload = widgets.FileUpload()"
   ]
  },
  {
   "cell_type": "code",
   "execution_count": null,
   "id": "b43c3e5b",
   "metadata": {},
   "outputs": [],
   "source": [
    "VBox([widgets.Label('Select your bear!'), \n",
    "      btn_upload, btn_run, out_pl, lbl_pred])"
   ]
  },
  {
   "cell_type": "code",
   "execution_count": null,
   "id": "6c2af20b",
   "metadata": {},
   "outputs": [],
   "source": [
    "labels = learn.dls.vocab\n",
    "def predict(img):\n",
    "    img = PILImage.create(img)\n",
    "    pred,pred_idx,probs = learn.predict(img)\n",
    "    return {labels[i]: float(probs[i]) for i in range(len(labels))}"
   ]
  },
  {
   "cell_type": "code",
   "execution_count": null,
   "id": "c3911230",
   "metadata": {},
   "outputs": [],
   "source": [
    "import gradio as gr\n",
    "gr.Interface(fn=predict, inputs=gr.inputs.Image(shape=(512, 512)), outputs=gr.outputs.Label(num_top_classes=3)).launch(share=True)"
   ]
  },
  {
   "cell_type": "code",
   "execution_count": null,
   "id": "8a42fc07",
   "metadata": {},
   "outputs": [],
   "source": [
    "import gradio as gr\n",
    "from fastai.vision.all import *\n",
    "import skimage\n",
    "\n",
    "learn = load_learner('export.pkl')\n",
    "\n",
    "labels = learn.dls.vocab\n",
    "def predict(img):\n",
    "    img = PILImage.create(img)\n",
    "    pred,pred_idx,probs = learn.predict(img)\n",
    "    return {labels[i]: float(probs[i]) for i in range(len(labels))}\n",
    "\n",
    "title = \"Face condition Analyzer\"\n",
    "description = \"A face condition detector trained on the custom dataset with fastai. Created using Gradio and HuggingFace Spaces.\"\n",
    "examples = ['harmonal_acne.jpg','forehead_wrinkles.jpg','oily_skin.jpg']\n",
    "enable_queue=True\n",
    "\n",
    "gr.Interface(fn=predict,inputs=gr.inputs.Image(shape=(512, 512)),outputs=gr.outputs.Label(num_top_classes=3),title=title,\n",
    "             description=description,examples=examples,enable_queue=enable_queue).launch(share=True)"
   ]
  },
  {
   "cell_type": "code",
   "execution_count": null,
   "id": "d7b76171",
   "metadata": {},
   "outputs": [],
   "source": [
    "import gradio as gr\n",
    "from fastai.vision.all import *\n",
    "import skimage\n",
    "import pathlib\n",
    "import pandas as pd\n",
    "\n",
    "plt = platform.system()\n",
    "if plt == 'Linux': pathlib.WindowsPath = pathlib.PosixPath\n",
    "title = \"Face condition Analyzer\"\n",
    "description = \"A face condition detector trained on the custom dataset with fastai. Created using Gradio and HuggingFace Spaces.\"\n",
    "examples = [['harmonal_acne.jpg'],['forehead_wrinkles.jpg'],['oily_skin.jpg']]\n",
    "enable_queue=True\n",
    "\n",
    "with gr.Blocks(title=title,description=description,examples=examples,enable_queue=enable_queue) as demo:\n",
    "    learn = load_learner('export.pkl')\n",
    "    labels = learn.dls.vocab\n",
    "    def predict(img):\n",
    "        img = PILImage.create(img)\n",
    "        pred,pred_idx,probs = learn.predict(img)\n",
    "        return {labels[i]: float(probs[i]) for i in range(len(labels))}\n",
    "    gr.Markdown(\"# Face Skin Analyzer\")\n",
    "    gr.Markdown(\"A face condition detector trained on the custom dataset with fastai. Created using Gradio and HuggingFace Spaces. Kindly upload a photo of your face.\")\n",
    "    with gr.Row():\n",
    "        inputs = gr.inputs.Image(shape=(512, 512))\n",
    "        outputs = gr.outputs.Label(num_top_classes=3)\n",
    "    btn = gr.Button(\"Predict\")\n",
    "    btn.click(fn=predict, inputs=inputs, outputs=outputs)\n",
    "    \n",
    "    df=pd.read_excel(\"recommendation.xlsx\")\n",
    "    classes = df['class'].unique()\n",
    "    with gr.Accordion(\"Find your skin condition using above analyzer and see the Recommended solutions\",open=True):\n",
    "        for c in classes:\n",
    "            with gr.Accordion(c,open=False):\n",
    "                df_temp = df[df['class']==c]\n",
    "                with gr.Row():\n",
    "                    for i,current_row in df_temp.iterrows():\n",
    "                        with gr.Column():\n",
    "                            html_box = gr.HTML(\"<a href='{}'><img src ='{}'></a>\".format(current_row['profit_link'],current_row['product_image']))                   \n",
    "demo.launch()"
   ]
  },
  {
   "cell_type": "code",
   "execution_count": null,
   "id": "e575d70d",
   "metadata": {},
   "outputs": [],
   "source": []
  }
 ],
 "metadata": {
  "kernelspec": {
   "display_name": "Python 3 (ipykernel)",
   "language": "python",
   "name": "python3"
  },
  "language_info": {
   "codemirror_mode": {
    "name": "ipython",
    "version": 3
   },
   "file_extension": ".py",
   "mimetype": "text/x-python",
   "name": "python",
   "nbconvert_exporter": "python",
   "pygments_lexer": "ipython3",
   "version": "3.11.4"
  }
 },
 "nbformat": 4,
 "nbformat_minor": 5
}
