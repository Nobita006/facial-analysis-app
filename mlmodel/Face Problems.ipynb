{
 "cells": [
  {
   "cell_type": "code",
   "execution_count": null,
   "id": "98c04179",
   "metadata": {},
   "outputs": [],
   "source": [
    "import fastbook\n",
    "fastbook.setup_book()"
   ]
  },
  {
   "cell_type": "markdown",
   "id": "54b229d7",
   "metadata": {},
   "source": [
    "The code starts by setting up the environment by installing and importing the fastbook package, which is a utility for using the fastai library effectively. This is necessary for the machine learning model implementation and training."
   ]
  },
  {
   "cell_type": "code",
   "execution_count": null,
   "id": "5f530230",
   "metadata": {},
   "outputs": [],
   "source": [
    "#hide\n",
    "from fastbook import *\n",
    "from fastai.vision.widgets import *"
   ]
  },
  {
   "cell_type": "markdown",
   "id": "cd47342c",
   "metadata": {},
   "source": [
    "The required libraries from the fastai package are imported. fastai.vision.widgets includes tools to interact with the vision models such as image uploaders and predictions display."
   ]
  },
  {
   "cell_type": "code",
   "execution_count": null,
   "id": "ee42b12f",
   "metadata": {},
   "outputs": [],
   "source": [
    "search_images_ddg"
   ]
  },
  {
   "cell_type": "code",
   "execution_count": null,
   "id": "8f9fa99b",
   "metadata": {},
   "outputs": [],
   "source": [
    "face_problem_types = ['DARK CIRCLES ON FACE','DARK SPOTS ON FACE','EYE BAGS','DRY SKIN','OILY SKIN','FACE REDNESS',\n",
    "          'DULL SKIN','ROUGH TEXTURE ON FACE','LARGE PORES ON FACE','UNDER-EYE WRINKLES','HORMONAL ACNE',\n",
    "          'BLACKHEADS','SEBACEOUS FILAMENTS','FOREHEAD WRINKLES','RAZOR BUMPS']\n",
    "path = Path('Skin_Problems')"
   ]
  },
  {
   "cell_type": "markdown",
   "id": "ba375c0e",
   "metadata": {},
   "source": [
    "- A list of common skin problems is defined. This list will be used to search for images of these problems online.\n",
    "- A directory Skin_Problems is created to store images related to these skin issues."
   ]
  },
  {
   "cell_type": "code",
   "execution_count": null,
   "id": "7a1d139b",
   "metadata": {},
   "outputs": [],
   "source": [
    "if not path.exists():\n",
    "    path.mkdir()\n",
    "    for face_problem_type in face_problem_types:\n",
    "        dest = (path/face_problem_type)\n",
    "        dest.mkdir(exist_ok=True)\n",
    "        results = search_images_ddg(face_problem_type,max_images=500)\n",
    "        download_images(dest, urls=results)"
   ]
  },
  {
   "cell_type": "markdown",
   "id": "956f2cf5",
   "metadata": {},
   "source": [
    "The code checks if the directory exists. If not, it creates a directory for each skin problem and downloads images using DuckDuckGo’s image search API. This forms the dataset for training the model."
   ]
  },
  {
   "cell_type": "code",
   "execution_count": null,
   "id": "75289607",
   "metadata": {},
   "outputs": [],
   "source": [
    "fns = get_image_files(path)\n",
    "fns"
   ]
  },
  {
   "cell_type": "code",
   "execution_count": null,
   "id": "1984f3aa",
   "metadata": {},
   "outputs": [],
   "source": [
    "failed = verify_images(fns)\n",
    "failed"
   ]
  },
  {
   "cell_type": "code",
   "execution_count": null,
   "id": "3eebe87f",
   "metadata": {},
   "outputs": [],
   "source": [
    "failed.map(Path.unlink);"
   ]
  },
  {
   "cell_type": "markdown",
   "id": "6433d323",
   "metadata": {},
   "source": [
    "The downloaded images are verified to ensure they are valid. Any corrupted or invalid images are removed to clean the dataset."
   ]
  },
  {
   "cell_type": "code",
   "execution_count": null,
   "id": "474300f4",
   "metadata": {},
   "outputs": [],
   "source": [
    "face_problems = DataBlock(\n",
    "    blocks=(ImageBlock, CategoryBlock), \n",
    "    get_items=get_image_files, \n",
    "    splitter=RandomSplitter(valid_pct=0.1, seed=42),\n",
    "    get_y=parent_label,\n",
    "    item_tfms=Resize(128))"
   ]
  },
  {
   "cell_type": "markdown",
   "id": "2586f93a",
   "metadata": {},
   "source": [
    "The DataBlock is defined, which is the core data structure in fastai for managing data transformations and pipelines. It specifies how to split the data, how to label it, and what transformations to apply (like resizing images)."
   ]
  },
  {
   "cell_type": "code",
   "execution_count": null,
   "id": "af433248",
   "metadata": {},
   "outputs": [],
   "source": [
    "dls = face_problems.dataloaders(path)"
   ]
  },
  {
   "cell_type": "markdown",
   "id": "71f42fe8",
   "metadata": {},
   "source": [
    "The DataBlock is used to create data loaders, which handle the loading and transformation of images during training."
   ]
  },
  {
   "cell_type": "code",
   "execution_count": null,
   "id": "4d846780",
   "metadata": {},
   "outputs": [],
   "source": [
    "face_problems = face_problems.new(item_tfms=Resize(128), batch_tfms=aug_transforms(mult=2))\n",
    "dls = face_problems.dataloaders(path)\n",
    "dls.train.show_batch(max_n=8, nrows=2, unique=True)"
   ]
  },
  {
   "cell_type": "code",
   "execution_count": null,
   "id": "5f555b4c",
   "metadata": {},
   "outputs": [],
   "source": [
    "face_problems = face_problems.new(\n",
    "    item_tfms=RandomResizedCrop(224, min_scale=0.5),\n",
    "    batch_tfms=aug_transforms(),\n",
    ")\n",
    "dls = face_problems.dataloaders(path,bs=16)"
   ]
  },
  {
   "cell_type": "code",
   "execution_count": null,
   "id": "75215a20",
   "metadata": {},
   "outputs": [],
   "source": [
    "learn = cnn_learner(dls, resnet50, metrics=error_rate)\n",
    "learn.fine_tune(5)"
   ]
  },
  {
   "cell_type": "markdown",
   "id": "7b473e78",
   "metadata": {},
   "source": [
    "Data augmentation is applied to improve model robustness. The model is then trained using a pre-trained ResNet50 architecture with a few epochs of fine-tuning."
   ]
  },
  {
   "cell_type": "code",
   "execution_count": null,
   "id": "58330612",
   "metadata": {},
   "outputs": [],
   "source": [
    "interp = ClassificationInterpretation.from_learner(learn)\n",
    "interp.plot_confusion_matrix()"
   ]
  },
  {
   "cell_type": "code",
   "execution_count": null,
   "id": "5f51be72",
   "metadata": {},
   "outputs": [],
   "source": [
    "interp.plot_top_losses(1, nrows=1)"
   ]
  },
  {
   "cell_type": "markdown",
   "id": "8507af2a",
   "metadata": {},
   "source": [
    "The trained model is evaluated using confusion matrices and loss plots to analyze performance and identify areas where the model might be failing."
   ]
  },
  {
   "cell_type": "code",
   "execution_count": null,
   "id": "6f1302a3",
   "metadata": {},
   "outputs": [],
   "source": [
    "learn.export()"
   ]
  },
  {
   "cell_type": "markdown",
   "id": "26eba0d4",
   "metadata": {},
   "source": [
    "The trained model is exported for later use. This allows the model to be loaded and used for inference without retraining."
   ]
  }
 ],
 "metadata": {
  "kernelspec": {
   "display_name": "Python 3 (ipykernel)",
   "language": "python",
   "name": "python3"
  },
  "language_info": {
   "codemirror_mode": {
    "name": "ipython",
    "version": 3
   },
   "file_extension": ".py",
   "mimetype": "text/x-python",
   "name": "python",
   "nbconvert_exporter": "python",
   "pygments_lexer": "ipython3",
   "version": "3.11.4"
  }
 },
 "nbformat": 4,
 "nbformat_minor": 5
}
